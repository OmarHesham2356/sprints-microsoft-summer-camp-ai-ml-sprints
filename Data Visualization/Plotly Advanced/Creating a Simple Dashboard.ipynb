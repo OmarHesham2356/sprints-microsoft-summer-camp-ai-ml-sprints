{
 "cells": [
  {
   "cell_type": "markdown",
   "id": "c7074d72-e016-4475-8418-e8a3a56cdfda",
   "metadata": {},
   "source": [
    "# Creating a Simple Dashboard\n",
    "\n",
    "The video **\"Creating a Simple Dashboard\"** probably talks about creating an interactive data visualization dashboard using **Dash** in Python. Dash is an open-source library for building analytical applications. It allows us to create web-based data visualizations entirely in Python — no JavaScript required.\n",
    "\n",
    "---\n",
    "\n",
    "## Installation\n",
    "\n",
    "Before running the snippet, make sure to install the relevant libraries (`dash`, `dash-core-components`, `dash-html-components`, `plotly`) using pip or conda:\n",
    "\n",
    "```bash\n",
    "pip install dash dash-core-components dash-html-components plotly\n",
    "````\n",
    "\n",
    "---\n",
    "\n",
    "## Example: Simple Interactive Dashboard\n",
    "\n"
   ]
  },
  {
   "cell_type": "code",
   "execution_count": 1,
   "id": "3cedaa18-af88-4ced-8b7f-cafe8cb4b7ce",
   "metadata": {},
   "outputs": [
    {
     "data": {
      "text/html": [
       "\n",
       "        <iframe\n",
       "            width=\"100%\"\n",
       "            height=\"650\"\n",
       "            src=\"http://127.0.0.1:8051/\"\n",
       "            frameborder=\"0\"\n",
       "            allowfullscreen\n",
       "            \n",
       "        ></iframe>\n",
       "        "
      ],
      "text/plain": [
       "<IPython.lib.display.IFrame at 0x7faa41d6a900>"
      ]
     },
     "metadata": {},
     "output_type": "display_data"
    }
   ],
   "source": [
    "# Import required libraries\n",
    "import dash\n",
    "import dash_core_components as dcc\n",
    "import dash_html_components as html\n",
    "from dash.dependencies import Input, Output\n",
    "import plotly.express as px\n",
    "import pandas as pd\n",
    "\n",
    "# Load your dataset\n",
    "# df = pd.read_csv('your_data.csv')\n",
    "# Example: assuming df has 'Date' and 'Value' columns\n",
    "# For demo purposes, create a dummy DataFrame\n",
    "df = pd.DataFrame({\n",
    "    \"Date\": pd.date_range(start=\"2021-01-01\", periods=10),\n",
    "    \"Value\": [10, 15, 13, 17, 20, 18, 25, 22, 30, 28]\n",
    "})\n",
    "\n",
    "# Create a line chart\n",
    "fig = px.line(df, x='Date', y='Value')\n",
    "\n",
    "app = dash.Dash(__name__)\n",
    "\n",
    "# Define the layout\n",
    "app.layout = html.Div([\n",
    "    html.H1(\"My Simple Dashboard\"),\n",
    "    dcc.Graph(id='graph', figure=fig), \n",
    "    html.Label([\n",
    "        \"Line Color\",\n",
    "        dcc.Dropdown(\n",
    "            id='colorscale-dropdown', clearable=False,\n",
    "            value='blue', options=[\n",
    "                {'label': 'Blue', 'value': 'blue'},\n",
    "                {'label': 'Red', 'value': 'red'},\n",
    "                {'label': 'Green', 'value': 'green'},\n",
    "                {'label': 'Purple', 'value': 'purple'},\n",
    "                {'label': 'Orange', 'value': 'orange'}\n",
    "            ])\n",
    "    ]),\n",
    "])\n",
    "\n",
    "# Define callback to update graph\n",
    "@app.callback(\n",
    "    Output('graph', 'figure'),\n",
    "    Input('colorscale-dropdown', 'value')\n",
    ")\n",
    "def update_graph(color):\n",
    "    fig = px.line(df, x='Date', y='Value')\n",
    "    fig.update_traces(line=dict(color=color))\n",
    "    return fig\n",
    "\n",
    "# Run the Dash app\n",
    "if __name__ == '__main__':\n",
    "    app.run(debug=True, port=8051)"
   ]
  },
  {
   "cell_type": "markdown",
   "id": "1aced1de-b572-415c-9129-c940f1fe097a",
   "metadata": {},
   "source": [
    "---\n",
    "\n",
    "## Explanation\n",
    "\n",
    "* **Import libraries**: Import Dash, Plotly Express, and supporting components.\n",
    "* **Dataset**: Load your data into a Pandas DataFrame (`df`). It should contain a `Date` column and a `Value` column.\n",
    "* **Figure**: Use Plotly Express (`px.line`) to create a line chart.\n",
    "* **Layout**: The dashboard layout includes:\n",
    "\n",
    "  * A title (`H1`)\n",
    "  * A graph (`dcc.Graph`)\n",
    "  * A dropdown menu (`dcc.Dropdown`) for selecting different color scales.\n",
    "* **Interactivity**: A callback (`@app.callback`) listens to dropdown changes and updates the chart with the chosen color scale.\n",
    "* **Run**: Start the Dash server with `app.run_server(debug=True)`.\n",
    "\n",
    "👉 Remember to replace the dummy DataFrame with your actual dataset.\n",
    "\n",
    "```\n",
    "\n",
    "---\n"
   ]
  }
 ],
 "metadata": {
  "kernelspec": {
   "display_name": "Python 3 (ipykernel)",
   "language": "python",
   "name": "python3"
  },
  "language_info": {
   "codemirror_mode": {
    "name": "ipython",
    "version": 3
   },
   "file_extension": ".py",
   "mimetype": "text/x-python",
   "name": "python",
   "nbconvert_exporter": "python",
   "pygments_lexer": "ipython3",
   "version": "3.13.7"
  }
 },
 "nbformat": 4,
 "nbformat_minor": 5
}
