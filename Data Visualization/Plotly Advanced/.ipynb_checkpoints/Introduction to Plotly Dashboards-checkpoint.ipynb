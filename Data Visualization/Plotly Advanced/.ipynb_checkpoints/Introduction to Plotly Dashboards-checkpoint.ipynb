{
 "cells": [
  {
   "cell_type": "markdown",
   "id": "7840a616-ebe0-40d0-ad1d-b7ccbf37aac4",
   "metadata": {},
   "source": [
    "# Introduction to Plotly Dashboards\n",
    "\n",
    "The video **\"Introduction to Plotly Dashboards\"** talks about Dash, a productive Python framework for building web applications. Written on top of **Flask**, **Plotly.js**, and **React.js**, Dash is ideal for building data visualization apps with highly custom user interfaces in pure Python.\n",
    "\n",
    "---\n",
    "\n",
    "## Installation\n",
    "\n",
    "Firstly, if you haven't installed Dash, install it using pip:\n",
    "\n",
    "```bash\n",
    "pip install dash==1.21.0\n",
    "````\n",
    "\n",
    "---\n",
    "\n",
    "## Basic Dash App Example\n",
    "\n"
   ]
  },
  {
   "cell_type": "code",
   "execution_count": 1,
   "id": "65d1b18c-3b8d-4260-a985-b5df69629bf6",
   "metadata": {},
   "outputs": [
    {
     "ename": "ObsoleteAttributeException",
     "evalue": "app.run_server has been replaced by app.run",
     "output_type": "error",
     "traceback": [
      "\u001b[31m---------------------------------------------------------------------------\u001b[39m",
      "\u001b[31mObsoleteAttributeException\u001b[39m                Traceback (most recent call last)",
      "\u001b[36mCell\u001b[39m\u001b[36m \u001b[39m\u001b[32mIn[1]\u001b[39m\u001b[32m, line 26\u001b[39m\n\u001b[32m     12\u001b[39m app.layout = html.Div(children=[\n\u001b[32m     13\u001b[39m     html.H1(children=\u001b[33m'\u001b[39m\u001b[33mHello Dash\u001b[39m\u001b[33m'\u001b[39m),\n\u001b[32m     14\u001b[39m \n\u001b[32m   (...)\u001b[39m\u001b[32m     22\u001b[39m     )\n\u001b[32m     23\u001b[39m ])\n\u001b[32m     25\u001b[39m \u001b[38;5;28;01mif\u001b[39;00m \u001b[34m__name__\u001b[39m == \u001b[33m'\u001b[39m\u001b[33m__main__\u001b[39m\u001b[33m'\u001b[39m:\n\u001b[32m---> \u001b[39m\u001b[32m26\u001b[39m     \u001b[43mapp\u001b[49m\u001b[43m.\u001b[49m\u001b[43mrun_server\u001b[49m(debug=\u001b[38;5;28;01mTrue\u001b[39;00m)\n",
      "\u001b[36mFile \u001b[39m\u001b[32m~/Documents/Github/sprints-microsoft-summer-camp-ai-ml-sprints/.venv/lib/python3.13/site-packages/dash/_obsolete.py:22\u001b[39m, in \u001b[36mObsoleteChecker.__getattr__\u001b[39m\u001b[34m(self, name)\u001b[39m\n\u001b[32m     20\u001b[39m \u001b[38;5;28;01mif\u001b[39;00m name \u001b[38;5;129;01min\u001b[39;00m \u001b[38;5;28mself\u001b[39m._obsolete_attributes:\n\u001b[32m     21\u001b[39m     err = \u001b[38;5;28mself\u001b[39m._obsolete_attributes[name]\n\u001b[32m---> \u001b[39m\u001b[32m22\u001b[39m     \u001b[38;5;28;01mraise\u001b[39;00m err.exc(err.message)\n\u001b[32m     23\u001b[39m \u001b[38;5;28;01mreturn\u001b[39;00m \u001b[38;5;28mgetattr\u001b[39m(\u001b[38;5;28mself\u001b[39m.\u001b[34m__dict__\u001b[39m, name)\n",
      "\u001b[31mObsoleteAttributeException\u001b[39m: app.run_server has been replaced by app.run"
     ]
    }
   ],
   "source": [
    "import dash\n",
    "from dash import dcc, html\n",
    "import plotly.express as px\n",
    "\n",
    "df = px.data.iris()\n",
    "\n",
    "fig = px.scatter(df, x=\"sepal_width\", y=\"sepal_length\",\n",
    "                 color=\"species\", hover_data=['petal_width', 'petal_length'])\n",
    "\n",
    "app = dash.Dash()\n",
    "\n",
    "app.layout = html.Div(children=[\n",
    "    html.H1(children='Hello Dash'),\n",
    "\n",
    "    html.Div(children='''\n",
    "        Dash: A web application framework for Python.\n",
    "    '''),\n",
    "\n",
    "    dcc.Graph(\n",
    "        id='example-graph',\n",
    "        figure=fig\n",
    "    )\n",
    "])\n",
    "\n",
    "if __name__ == '__main__':\n",
    "    app.run(debug=True)\n"
   ]
  },
  {
   "cell_type": "markdown",
   "id": "3584c0ef-34f0-49b6-8518-af0e1a1ad5c4",
   "metadata": {},
   "source": [
    "\n",
    "---\n",
    "\n",
    "## Explanation\n",
    "\n",
    "* The app starts by importing the required modules and defining some data using Plotly Express on the **Iris dataset**.\n",
    "* The layout of the app is defined within `app.layout`. Here we’re using a simple `html.Div` element that contains:\n",
    "\n",
    "  * an `H1` title,\n",
    "  * a `Div` for normal text,\n",
    "  * and a `Graph` element which will render the scatter plot we defined earlier.\n",
    "* Finally, the condition at the bottom `if __name__ == '__main__':` is the entry point to run our Dash app.\n",
    "\n",
    "---"
   ]
  }
 ],
 "metadata": {
  "kernelspec": {
   "display_name": "Python 3 (ipykernel)",
   "language": "python",
   "name": "python3"
  },
  "language_info": {
   "codemirror_mode": {
    "name": "ipython",
    "version": 3
   },
   "file_extension": ".py",
   "mimetype": "text/x-python",
   "name": "python",
   "nbconvert_exporter": "python",
   "pygments_lexer": "ipython3",
   "version": "3.13.7"
  }
 },
 "nbformat": 4,
 "nbformat_minor": 5
}
