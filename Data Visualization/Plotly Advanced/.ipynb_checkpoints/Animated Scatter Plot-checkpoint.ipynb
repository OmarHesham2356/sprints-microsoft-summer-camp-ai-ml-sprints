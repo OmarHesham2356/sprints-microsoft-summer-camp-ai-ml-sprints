{
 "cells": [
  {
   "cell_type": "markdown",
   "id": "9703a166-d732-4113-8a2a-0f0c0676874f",
   "metadata": {},
   "source": [
    "### Exercise: Creating a Dashboard\n",
    "\n",
    "  * Add more plots to the dashboard, such as pie charts or area plots, to provide a more comprehensive view of the data.\n",
    "\n",
    "### 5.3 Adding Animations to Plots\n",
    "\n",
    "**Example: Animated Scatter Plot**\n",
    "\n"
   ]
  },
  {
   "cell_type": "code",
   "execution_count": 1,
   "id": "6d38d617-3c5a-4fb3-b73a-20be7dd6ffd1",
   "metadata": {},
   "outputs": [
    {
     "ename": "SyntaxError",
     "evalue": "invalid syntax (1064665582.py, line 1)",
     "output_type": "error",
     "traceback": [
      "  \u001b[36mCell\u001b[39m\u001b[36m \u001b[39m\u001b[32mIn[1]\u001b[39m\u001b[32m, line 1\u001b[39m\n\u001b[31m    \u001b[39m\u001b[31mIn [34]:\u001b[39m\n            ^\n\u001b[31mSyntaxError\u001b[39m\u001b[31m:\u001b[39m invalid syntax\n"
     ]
    }
   ],
   "source": [
    "# Sample data\n",
    "df = px.data.gapminder()\n",
    "\n",
    "# Animated Scatter Plot\n",
    "fig = px.scatter(df,            # The DataFrame containing the data.\n",
    "                 x='gdpPercap',      # The column for the x-axis (GDP per capita).\n",
    "                 y='lifeExp',        # The column for the y-axis (Life Expectancy).\n",
    "                 animation_frame='year',   # The column used for the animation frames (creates a new plot for each year).\n",
    "                 animation_group='country', # The column to group points by, ensuring a country's data points are linked across frames.\n",
    "                 size='pop',         # The column that determines the size of each scatter plot marker (population).\n",
    "                 color='continent',  # The column that determines the color of each marker (continent).\n",
    "                 hover_name='country',  # The column whose values appear when you hover over a data point.\n",
    "                 log_x=True,         # Sets the x-axis to a logarithmic scale for better visualization of skewed data.\n",
    "                 size_max=55,        # Sets the maximum size for the markers.\n",
    "                 title='Life Expectancy vs GDP per Capita Over Time') # The title of the plot.\n",
    "\n",
    "# Update the layout of the figure\n",
    "fig.update_layout(title_font_size=18) # Sets the font size of the plot title.\n",
    "\n",
    "# Display the figure\n",
    "fig.show()"
   ]
  }
 ],
 "metadata": {
  "kernelspec": {
   "display_name": "Python 3 (ipykernel)",
   "language": "python",
   "name": "python3"
  },
  "language_info": {
   "codemirror_mode": {
    "name": "ipython",
    "version": 3
   },
   "file_extension": ".py",
   "mimetype": "text/x-python",
   "name": "python",
   "nbconvert_exporter": "python",
   "pygments_lexer": "ipython3",
   "version": "3.13.7"
  }
 },
 "nbformat": 4,
 "nbformat_minor": 5
}
