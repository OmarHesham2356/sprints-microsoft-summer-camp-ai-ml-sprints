{
 "cells": [
  {
   "cell_type": "markdown",
   "id": "d9be0ff5-0e01-4b92-b80d-5021d6694bbc",
   "metadata": {},
   "source": [
    "Perfect 👍 Let’s rewrite your explanation so it’s focused specifically on **PygWalker**, nice and clear, in Markdown format.\n",
    "\n",
    "---\n",
    "\n",
    "# Installing and Importing PygWalker\n",
    "\n",
    "[PygWalker](https://github.com/Kanaries/pygwalker) (short for **Python binding of Graphic Walker**) is a tool that helps you explore and visualize data inside Jupyter Notebook or other Python environments. It works a bit like Tableau or PowerBI, but inside your notebook.\n",
    "\n",
    "To use PygWalker, you need to **install** it first and then **import** it into your script or notebook.\n",
    "\n",
    "---\n",
    "\n",
    "## 1. Install PygWalker\n",
    "\n",
    "Open your terminal (or Jupyter Notebook cell) and run:\n",
    "\n",
    "```bash\n",
    "pip install pygwalker\n",
    "```\n",
    "\n",
    "If you’re using Jupyter Notebook or JupyterLab, you may also need to install/enable extensions. In most cases, just installing with `pip` is enough.\n",
    "\n",
    "---\n",
    "\n",
    "## 2. Import PygWalker\n",
    "\n",
    "Once installed, you can import it in your Python code:\n",
    "\n",
    "```python\n",
    "import pygwalker as pyg\n",
    "```\n",
    "\n",
    "---\n",
    "\n",
    "## 3. Basic Usage Example\n",
    "\n",
    "PygWalker is often used with **pandas** DataFrames. For example:\n",
    "\n"
   ]
  },
  {
   "cell_type": "code",
   "execution_count": null,
   "id": "1e661697-7e1e-4de0-8d9c-226f8cebfa69",
   "metadata": {},
   "outputs": [
    {
     "data": {
      "application/vnd.jupyter.widget-view+json": {
       "model_id": "56a228f4762a4ff2b6bc2915eedeae37",
       "version_major": 2,
       "version_minor": 0
      },
      "text/plain": [
       "Box(children=(HTML(value='\\n<div id=\"ifr-pyg-00063ed4dbbea79a9jLI81MTG34yvPSg\" style=\"height: auto\">\\n    <hea…"
      ]
     },
     "metadata": {},
     "output_type": "display_data"
    },
    {
     "data": {
      "text/html": [
       "<script>\n",
       "    window.addEventListener(\"message\", function(event) {\n",
       "        const backgroundMap = {\n",
       "            \"dark\": \"hsl(240 10% 3.9%)\",\n",
       "            \"light\": \"hsl(0 0 100%)\",\n",
       "        };\n",
       "        const colorMap = {\n",
       "            \"dark\": \"hsl(0 0% 98%)\",\n",
       "            \"light\": \"hsl(240 10% 3.9%)\",\n",
       "        };\n",
       "        if (event.data.action === \"changeAppearance\" && event.data.gid === \"00063ed4dbbea79a9jLI81MTG34yvPSg\") {\n",
       "            var iframe = document.getElementById(\"gwalker-00063ed4dbbea79a9jLI81MTG34yvPSg\");\n",
       "            iframe.style.background  = backgroundMap[event.data.appearance];\n",
       "            iframe.style.color = colorMap[event.data.appearance];\n",
       "        }\n",
       "    });\n",
       "</script>"
      ],
      "text/plain": [
       "<IPython.core.display.HTML object>"
      ]
     },
     "metadata": {},
     "output_type": "display_data"
    },
    {
     "data": {
      "text/html": [],
      "text/plain": [
       "<IPython.core.display.HTML object>"
      ]
     },
     "metadata": {},
     "output_type": "display_data"
    },
    {
     "data": {
      "text/plain": [
       "<pygwalker.api.pygwalker.PygWalker at 0x7f45551ff620>"
      ]
     },
     "execution_count": 1,
     "metadata": {},
     "output_type": "execute_result"
    }
   ],
   "source": [
    "import pandas as pd\n",
    "import pygwalker as pyg\n",
    "\n",
    "# Load a sample dataset\n",
    "df = pd.DataFrame({\n",
    "    \"Name\": [\"Alice\", \"Bob\", \"Charlie\"],\n",
    "    \"Age\": [25, 32, 37],\n",
    "    \"City\": [\"New York\", \"Paris\", \"London\"]\n",
    "})\n",
    "\n",
    "# Start PygWalker for interactive visualization\n",
    "pyg.walk(df)"
   ]
  },
  {
   "cell_type": "markdown",
   "id": "b8bf5cb8-f745-4145-bf15-019b1176bb05",
   "metadata": {},
   "source": [
    "\n",
    "This will open an interactive UI inside your notebook, where you can explore and visualize your dataset.\n",
    "\n",
    "---\n",
    "\n",
    "## Summary\n",
    "\n",
    "* **Install:** `pip install pygwalker`\n",
    "* **Import:** `import pygwalker as pyg`\n",
    "* **Use:** `pyg.walk(df)` to explore your pandas DataFrame\n",
    "\n",
    "---\n"
   ]
  }
 ],
 "metadata": {
  "kernelspec": {
   "display_name": "Python 3 (ipykernel)",
   "language": "python",
   "name": "python3"
  },
  "language_info": {
   "codemirror_mode": {
    "name": "ipython",
    "version": 3
   },
   "file_extension": ".py",
   "mimetype": "text/x-python",
   "name": "python",
   "nbconvert_exporter": "python",
   "pygments_lexer": "ipython3",
   "version": "3.13.7"
  }
 },
 "nbformat": 4,
 "nbformat_minor": 5
}
