{
 "cells": [
  {
   "cell_type": "markdown",
   "id": "c77bc767-79cd-4e80-9ad0-2a61d6dba89f",
   "metadata": {},
   "source": [
    "# Customizing PygWalker Outputs\n",
    "\n",
    "[PygWalker](https://github.com/Kanaries/pygwalker) is designed for interactive data exploration, but you can also **customize its outputs** in a few useful ways.\n",
    "\n",
    "---\n",
    "\n",
    "## 1. Change the Visualization Size\n",
    "\n",
    "By default, PygWalker opens in a standard cell size. You can make it larger for more comfortable exploration.\n",
    "\n",
    "```python\n",
    "\n",
    "```\n",
    "\n",
    "\n"
   ]
  },
  {
   "cell_type": "code",
   "execution_count": null,
   "id": "2e580a03-c9e4-4ef7-99a2-4fbeada4c3f4",
   "metadata": {},
   "outputs": [
    {
     "data": {
      "application/vnd.jupyter.widget-view+json": {
       "model_id": "238aa03d705c4dff87be846c03ac798b",
       "version_major": 2,
       "version_minor": 0
      },
      "text/plain": [
       "Box(children=(HTML(value='\\n<div id=\"ifr-pyg-00063ed51616fc69h8QkexqoPfRDtrYB\" style=\"height: auto\">\\n    <hea…"
      ]
     },
     "metadata": {},
     "output_type": "display_data"
    },
    {
     "data": {
      "text/html": [
       "<script>\n",
       "    window.addEventListener(\"message\", function(event) {\n",
       "        const backgroundMap = {\n",
       "            \"dark\": \"hsl(240 10% 3.9%)\",\n",
       "            \"light\": \"hsl(0 0 100%)\",\n",
       "        };\n",
       "        const colorMap = {\n",
       "            \"dark\": \"hsl(0 0% 98%)\",\n",
       "            \"light\": \"hsl(240 10% 3.9%)\",\n",
       "        };\n",
       "        if (event.data.action === \"changeAppearance\" && event.data.gid === \"00063ed51616fc69h8QkexqoPfRDtrYB\") {\n",
       "            var iframe = document.getElementById(\"gwalker-00063ed51616fc69h8QkexqoPfRDtrYB\");\n",
       "            iframe.style.background  = backgroundMap[event.data.appearance];\n",
       "            iframe.style.color = colorMap[event.data.appearance];\n",
       "        }\n",
       "    });\n",
       "</script>"
      ],
      "text/plain": [
       "<IPython.core.display.HTML object>"
      ]
     },
     "metadata": {},
     "output_type": "display_data"
    },
    {
     "data": {
      "text/html": [],
      "text/plain": [
       "<IPython.core.display.HTML object>"
      ]
     },
     "metadata": {},
     "output_type": "display_data"
    }
   ],
   "source": [
    "import pygwalker as pyg\n",
    "import plotly.express as px\n",
    "\n",
    "# Load a sample dataset\n",
    "df = px.data.tips()\n",
    "\n",
    "# Customize the visualization size (width x height in pixels)\n",
    "pyg.walk(df, spec=\"\", use_kernel_calc=True, dark=\"media\", show_cloud_tool=False, width=1200, height=600)"
   ]
  },
  {
   "cell_type": "markdown",
   "id": "c0799ab5-7483-4bb3-953a-1048e3ee2351",
   "metadata": {},
   "source": [
    "👉 Here:\n",
    "\n",
    "* `width=1200, height=600` → sets the frame size.\n",
    "* `dark=\"media\"` → automatically adapts to your Jupyter theme (light/dark).\n",
    "* `show_cloud_tool=False` → hides cloud export button (optional).\n",
    "\n",
    "---\n",
    "\n",
    "## 2. Save and Reuse Chart Configurations (Specs)\n",
    "\n",
    "When you create a chart in PygWalker, the configuration can be **exported as a JSON spec** and reused later.\n",
    "\n",
    "```python\n",
    "\n",
    "```\n",
    "\n"
   ]
  },
  {
   "cell_type": "code",
   "execution_count": null,
   "id": "67873d37-f5ff-4024-ab86-7c09436d5c60",
   "metadata": {},
   "outputs": [],
   "source": [
    "import pygwalker as pyg\n",
    "import pandas as pd\n",
    "import plotly.express as px\n",
    "\n",
    "# Load data\n",
    "df = px.data.tips()\n",
    "\n",
    "# Example of saving and reusing spec\n",
    "spec = \"\"  # leave empty the first time, it will generate a config\n",
    "pyg.walk(df, spec=spec)\n",
    "\n",
    "# After building your chart in the UI, export the spec JSON\n",
    "# Then you can paste that JSON here to reload the same chart later\n",
    "saved_spec = \"\"\"\n",
    "{\n",
    "  \"encodings\": [\n",
    "    {\"channel\": \"x\", \"field\": \"total_bill\"},\n",
    "    {\"channel\": \"y\", \"field\": \"tip\"},\n",
    "    {\"channel\": \"color\", \"field\": \"sex\"}\n",
    "  ],\n",
    "  \"mark\": \"point\"\n",
    "}\n",
    "\"\"\"\n",
    "\n",
    "# Reload the chart with saved spec\n",
    "pyg.walk(df, spec=saved_spec)"
   ]
  },
  {
   "cell_type": "markdown",
   "id": "b480de2b-82b1-4d8b-84b8-d02f348ac450",
   "metadata": {},
   "source": [
    "👉 This lets you **keep a consistent chart style** and share setups with others.\n",
    "\n",
    "---\n",
    "\n",
    "## 3. Export Visualizations\n",
    "\n",
    "PygWalker allows exporting visualizations to different formats. In Jupyter, after customizing your chart:\n",
    "\n",
    "* Use the **export button** in the UI to save charts as **images (PNG/SVG)**.\n",
    "* Or export as **Vega/VegaLite JSON specs** for use in other tools.\n",
    "\n",
    "---\n",
    "\n",
    "## 4. Apply Themes (Light/Dark Mode)\n",
    "\n",
    "You can force PygWalker to use a specific theme regardless of notebook settings:\n",
    "\n",
    "```python\n",
    "# Force dark theme\n",
    "pyg.walk(df, dark=\"dark\")\n",
    "\n",
    "# Force light theme\n",
    "pyg.walk(df, dark=\"light\")\n",
    "```\n",
    "\n",
    "---\n",
    "\n",
    "## Summary\n",
    "\n",
    "* **Resize the frame** → adjust `width` and `height`.\n",
    "* **Reuse charts** → save and reload with `spec`.\n",
    "* **Export outputs** → images or JSON specs via the UI.\n",
    "* **Switch themes** → `dark=\"light\"` or `dark=\"dark\"`.\n",
    "\n",
    "This way, you can **customize how PygWalker outputs look and behave**, making it easier to reuse and share your visualizations.\n",
    "\n",
    "---"
   ]
  }
 ],
 "metadata": {
  "kernelspec": {
   "display_name": "Python 3 (ipykernel)",
   "language": "python",
   "name": "python3"
  },
  "language_info": {
   "codemirror_mode": {
    "name": "ipython",
    "version": 3
   },
   "file_extension": ".py",
   "mimetype": "text/x-python",
   "name": "python",
   "nbconvert_exporter": "python",
   "pygments_lexer": "ipython3",
   "version": "3.13.7"
  }
 },
 "nbformat": 4,
 "nbformat_minor": 5
}
